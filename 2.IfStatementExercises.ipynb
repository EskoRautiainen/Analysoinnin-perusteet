{
 "cells": [
  {
   "cell_type": "code",
   "execution_count": 89,
   "metadata": {},
   "outputs": [
    {
     "name": "stdout",
     "output_type": "stream",
     "text": [
      "name1 is NOT equal to name2\n",
      "name1 and name3 are equal\n"
     ]
    }
   ],
   "source": [
    "name1 = \"esko\"\n",
    "name2 = \"osku\"\n",
    "name3 = \"esko\"\n",
    "\n",
    "if name1 == name2: print(\"name1 is equal to name2\")\n",
    "if not name1 == name2: print(\"name1 is NOT equal to name2\")\n",
    "\n",
    "if name1 == name2: print(\"name1 is equal to name2\")\n",
    "elif name1 == name3: print(\"name1 and name3 are equal\")\n"
   ]
  },
  {
   "cell_type": "code",
   "execution_count": null,
   "metadata": {},
   "outputs": [
    {
     "name": "stdout",
     "output_type": "stream",
     "text": [
      "number1 is higher than number2 and number3\n",
      "number1 is higher than number2\n"
     ]
    }
   ],
   "source": [
    "number1 = 40\n",
    "number2 = 30\n",
    "number3 = 10\n",
    "\n",
    "if number1 == number2 & number2 == number3: print(\"All numbers are equal\")\n",
    "if number1 == number2 or number2 == number3: print(\"number1 is equal to number2 or number2 is equal to number3\")\n",
    "if number1 > number2 and number1 > number3: print(\"number1 is greater than number2 and number3\")\n",
    "if number1 > number2: print (\"number1 is greater than number2\")\n",
    "elif number2 > number3: print (\"number2 is greater than number3\")\n",
    "\n",
    "if number1 == number2: print (\"number1 and number2 are equal\")\n",
    "elif number1 == number3: print (\"number1 and number3 are equal\")\n",
    "\n"
   ]
  },
  {
   "cell_type": "code",
   "execution_count": 91,
   "metadata": {},
   "outputs": [
    {
     "name": "stdout",
     "output_type": "stream",
     "text": [
      "number1 is greater\n",
      "number1 is equal to, or greater than number2\n",
      "number1 is not equal to number2\n"
     ]
    }
   ],
   "source": [
    "number1 = 20\n",
    "number2 = 15\n",
    "\n",
    "if number1 == number2: print(\"numbers are equal\")\n",
    "if number1 > number2: print(\"number1 is greater\")\n",
    "if number1 >= number2: print(\"number1 is equal to, or greater than number2\")\n",
    "if not number1 == number2: print(\"number1 is not equal to number2\")"
   ]
  },
  {
   "cell_type": "markdown",
   "metadata": {},
   "source": [
    "Here we go again"
   ]
  }
 ],
 "metadata": {
  "kernelspec": {
   "display_name": "Python 3",
   "language": "python",
   "name": "python3"
  },
  "language_info": {
   "codemirror_mode": {
    "name": "ipython",
    "version": 3
   },
   "file_extension": ".py",
   "mimetype": "text/x-python",
   "name": "python",
   "nbconvert_exporter": "python",
   "pygments_lexer": "ipython3",
   "version": "3.13.0"
  }
 },
 "nbformat": 4,
 "nbformat_minor": 2
}
