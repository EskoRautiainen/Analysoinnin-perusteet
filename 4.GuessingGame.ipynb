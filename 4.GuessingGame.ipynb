{
 "cells": [
  {
   "cell_type": "code",
   "execution_count": 1,
   "metadata": {},
   "outputs": [
    {
     "name": "stdout",
     "output_type": "stream",
     "text": [
      "You got it wrooong!\n",
      "I\n",
      "You got it wrooong!\n",
      "Il\n",
      "You got it wrooong!\n",
      "Ilm\n",
      "You got it wrooong!\n",
      "Ilma\n",
      "You got it wrooong!\n",
      "Ilmar\n",
      "You got it wrooong!\n",
      "Ilmari\n",
      "You guessed correctly!\n",
      "You guessed wrong  6 times\n"
     ]
    }
   ],
   "source": [
    "correct_guess = False                   #Boolean statement\n",
    "wrongGuessCount = 0\n",
    "correctName = \"Ilmari\"\n",
    "\n",
    "while not correct_guess:\n",
    "\n",
    "    nameGuess = input(\"Please, guess my name.\")\n",
    "\n",
    "    if nameGuess.lower() == \"Ilmari\".lower():\n",
    "        print(\"You guessed correctly!\")\n",
    "        correct_guess = True\n",
    "        break\n",
    "    else: print(\"You got it wrooong!\")\n",
    "    wrongGuessCount += 1\n",
    "    \n",
    "\n",
    "                                                # Now print the name letter by letter (one letter at a time)\n",
    "    print(correctName[:wrongGuessCount])        # Print progressively more letters based on wrong guesses\n",
    "    \n",
    "    continueGuessing = input(\"Do you want to continue? Yes/No\")\n",
    "\n",
    "    if continueGuessing.lower() == \"No\".lower():\n",
    "        break\n",
    "\n",
    "\n",
    "print(\"You guessed wrong \", wrongGuessCount , \"times\")"
   ]
  }
 ],
 "metadata": {
  "kernelspec": {
   "display_name": "Python 3",
   "language": "python",
   "name": "python3"
  },
  "language_info": {
   "codemirror_mode": {
    "name": "ipython",
    "version": 3
   },
   "file_extension": ".py",
   "mimetype": "text/x-python",
   "name": "python",
   "nbconvert_exporter": "python",
   "pygments_lexer": "ipython3",
   "version": "3.13.0"
  }
 },
 "nbformat": 4,
 "nbformat_minor": 2
}
