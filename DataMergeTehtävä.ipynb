{
 "cells": [
  {
   "cell_type": "markdown",
   "metadata": {},
   "source": [
    "Explanation:\n",
    "concat: Stacks the rows of two DataFrames, creating a new DataFrame. It does not care about the columns being the same or different.\n",
    "merge: Joins two DataFrames based on a shared column (order_id in this case), aligning the rows where the keys match."
   ]
  },
  {
   "cell_type": "markdown",
   "metadata": {},
   "source": [
    "This merge operation will combine the two DataFrames by the order_id column. The how='left' argument means it will keep all rows from orders_df and add matching data from portions_df. If no matching order_id exists, the result will have NaN for the corresponding portion columns."
   ]
  },
  {
   "cell_type": "code",
   "execution_count": null,
   "metadata": {},
   "outputs": [
    {
     "name": "stdout",
     "output_type": "stream",
     "text": [
      "   order_id customer_name  total_amount item_name  quantity\n",
      "0         1         Alice         25.50     Pizza         1\n",
      "1         2           Bob         30.20    Burger         2\n",
      "2         3       Charlie         15.75     Salad         3\n"
     ]
    }
   ],
   "source": [
    "# Create Orders DataFrame\n",
    "\n",
    "orders_data = {'order_id': [1, 2, 3], 'customer_name': ['Alice', 'Bob', 'Charlie'], 'total_amount': [25.5, 30.2, 15.75]}\n",
    "\n",
    "orders_df = pd.DataFrame(orders_data)\n",
    "\n",
    "\n",
    "# Create Portions DataFrame\n",
    "\n",
    "portions_data = {'order_id': [2, 1, 3], 'item_name': ['Burger', 'Pizza', 'Salad'], 'quantity': [2, 1, 3]}\n",
    "\n",
    "portions_df = pd.DataFrame(portions_data)\n",
    "\n",
    "\n",
    "# combined_df_merge = pd.concat([orders_df, portions_df], on 'order_id', ignore_index=True) \n",
    "# print(combined_df_merge)\n",
    "\n",
    "# Combine the datasets using merge on 'order_id'\n",
    "combined_df_merge = pd.merge(orders_df, portions_df, on='order_id', how='left')   # Komennon voi suorittaa vain order_id:llä. merge ei onnistu, jos käytän atribuuttia, jota ei löydy jokaisesta yhdistettävästä datasetistä.\n",
    "\n",
    "# Printtaa\n",
    "print(combined_df_merge)\n",
    "\n",
    "\n",
    "# Use code above to create two small datasets. Combine them with merge."
   ]
  },
  {
   "cell_type": "code",
   "execution_count": 21,
   "metadata": {},
   "outputs": [
    {
     "name": "stdout",
     "output_type": "stream",
     "text": [
      "   order_id item_name  quantity\n",
      "0         2    Burger         2\n",
      "1         1     Pizza         1\n",
      "2         3     Salad         3\n",
      "3         4      Soup         1\n",
      "4         6    Burger         3\n",
      "5         5       Wok         4\n"
     ]
    }
   ],
   "source": [
    "import pandas as pd\n",
    "\n",
    "# Create Orders DataFrame\n",
    "portions_data1 = {'order_id': [2, 1, 3], 'item_name': ['Burger', 'Pizza', 'Salad'], 'quantity': [2, 1, 3]}\n",
    "orders_df = pd.DataFrame(portions_data1)\n",
    "\n",
    "# Create Portions DataFrame\n",
    "portions_data2 = {'order_id': [4, 6, 5], 'item_name': ['Soup', 'Burger', 'Wok'], 'quantity': [1, 3, 4]}\n",
    "portions_df = pd.DataFrame(portions_data2)\n",
    "\n",
    "# Combine the datasets using concat\n",
    "combined_df_concat = pd.concat([orders_df, portions_df], ignore_index=True)   #Ilman ignore_indexia, indexin luku alkaa uudestaan nollasta.\n",
    "print(combined_df_concat)"
   ]
  }
 ],
 "metadata": {
  "kernelspec": {
   "display_name": "Python 3",
   "language": "python",
   "name": "python3"
  },
  "language_info": {
   "codemirror_mode": {
    "name": "ipython",
    "version": 3
   },
   "file_extension": ".py",
   "mimetype": "text/x-python",
   "name": "python",
   "nbconvert_exporter": "python",
   "pygments_lexer": "ipython3",
   "version": "3.13.0"
  }
 },
 "nbformat": 4,
 "nbformat_minor": 2
}
