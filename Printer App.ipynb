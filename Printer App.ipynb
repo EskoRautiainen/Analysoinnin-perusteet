{
 "cells": [
  {
   "cell_type": "code",
   "execution_count": 56,
   "metadata": {},
   "outputs": [
    {
     "name": "stdout",
     "output_type": "stream",
     "text": [
      "5\n",
      "The value of number1 is 5\n",
      "The value of number2 is 7\n",
      "result of multiplication is: 35\n",
      "5 * 7 = 35\n",
      "5 + 7 = 12\n",
      "5 - 7 = -2\n",
      "5 / 7 = 0.7142857142857143\n"
     ]
    }
   ],
   "source": [
    "creator = \"esko\"\n",
    "number1 = 5\n",
    "number2 = 7\n",
    "multiplication = number1 * number2\n",
    "addition = number1 + number2\n",
    "substraction = number1 - number2\n",
    "devision = number1 / number2  # // to make value Integer\n",
    "type(devision)\n",
    "\n",
    "\n",
    "print(number1) #Prints number1\n",
    "print(\"The value of number1 is\" , number1)\n",
    "\n",
    "print(\"The value of number2 is\" , number2)\n",
    "print(\"result of multiplication is:\" , multiplication)\n",
    "\n",
    "print(number1 , \"*\" , number2 , \"=\" , multiplication)\n",
    "print(number1 , \"+\" , number2 , \"=\" , addition)\n",
    "print(number1 , \"-\" , number2 , \"=\" , substraction)\n",
    "print(number1 , \"/\" , number2 , \"=\" , devision)"
   ]
  },
  {
   "cell_type": "code",
   "execution_count": 12,
   "metadata": {},
   "outputs": [
    {
     "name": "stdout",
     "output_type": "stream",
     "text": [
      "This app is made by: esko\n"
     ]
    }
   ],
   "source": [
    "print(\"This app is made by:\" , creator)"
   ]
  }
 ],
 "metadata": {
  "kernelspec": {
   "display_name": "Python 3",
   "language": "python",
   "name": "python3"
  },
  "language_info": {
   "codemirror_mode": {
    "name": "ipython",
    "version": 3
   },
   "file_extension": ".py",
   "mimetype": "text/x-python",
   "name": "python",
   "nbconvert_exporter": "python",
   "pygments_lexer": "ipython3",
   "version": "3.13.0"
  }
 },
 "nbformat": 4,
 "nbformat_minor": 2
}
