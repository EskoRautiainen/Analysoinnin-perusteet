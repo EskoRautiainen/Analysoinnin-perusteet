{
 "cells": [
  {
   "cell_type": "code",
   "execution_count": 5,
   "metadata": {},
   "outputs": [
    {
     "name": "stdout",
     "output_type": "stream",
     "text": [
      "[8, 17, 1, 11, 14]\n"
     ]
    }
   ],
   "source": [
    "import random                       #Random numbers between 1-20, no duplicates\n",
    "\n",
    "def FiveRandomNumbers():\n",
    "    random_numbers = [random.randint(1, 20) for _ in range(20)]\n",
    "\n",
    "    print(random_numbers[:5])\n",
    "\n",
    "FiveRandomNumbers()"
   ]
  },
  {
   "cell_type": "code",
   "execution_count": 6,
   "metadata": {},
   "outputs": [
    {
     "name": "stdout",
     "output_type": "stream",
     "text": [
      "29\n",
      "[1, 6, 8, 5, 9]\n",
      "Highest number is  9\n",
      "You got 57.99999999999999 % of the highest possible score (50)\n"
     ]
    }
   ],
   "source": [
    "import random\n",
    "\n",
    "thrownDiceNumbers = [0]             #Global variable\n",
    "result = 0                      #Global variable\n",
    "\n",
    "def countNumbers():\n",
    "\n",
    "    global thrownDiceNumbers        #Declare global variable\n",
    "    global result\n",
    "\n",
    "    \n",
    "    thrownDiceNumbers = [random.randint(1, 10), random.randint(1, 10), random.randint(1, 10), random.randint(1, 10), random.randint(1, 10)]\n",
    "    result = thrownDiceNumbers[0] + thrownDiceNumbers[1] + thrownDiceNumbers[2] + thrownDiceNumbers[3] + thrownDiceNumbers[4]\n",
    "    \n",
    "\n",
    "    print(result)\n",
    "    return thrownDiceNumbers; return result         #Return\n",
    "\n",
    "\n",
    "countNumbers()\n",
    "\n",
    "print(thrownDiceNumbers)\n",
    "\n",
    "highest_value = max(thrownDiceNumbers)\n",
    "print(\"Highest number is \",  highest_value)\n",
    "\n",
    "x = (result / 50 * 100)\n",
    "print(\"You got\" ,  x, \"% of the highest possible score (50)\")"
   ]
  },
  {
   "cell_type": "code",
   "execution_count": 7,
   "metadata": {},
   "outputs": [
    {
     "name": "stdout",
     "output_type": "stream",
     "text": [
      "['table', 'chair', 'shelf', 'sofa', 'carpet']\n",
      "sofa\n",
      "chair shelf\n",
      "table\n",
      "chair\n",
      "shelf\n",
      "sofa\n",
      "carpet\n",
      "table chair shelf sofa carpet "
     ]
    }
   ],
   "source": [
    "mylist = [\"table\", \"chair\", \"shelf\", \"sofa\", \"carpet\"] \n",
    "\n",
    "print(mylist)                   #Print whole list\n",
    "\n",
    "\n",
    "if \"sofa\" in mylist:\n",
    "    print(\"sofa\")\n",
    "    \n",
    "else:\n",
    "                                #If \"sofa\" is not found, print the whole list\n",
    "    for item in mylist:\n",
    "        print(item, end=\" \")\n",
    "\n",
    "\n",
    "print(mylist [1], mylist [2])   #Only first 2\n",
    "\n",
    "\n",
    "#for exmaple 1\n",
    "for list in mylist:             #Print all with for loop\n",
    "    print(list)\n",
    "\n",
    "\n",
    "for item in mylist:             #Print without ' marks\n",
    "    print(item, end=\" \")\n",
    "\n",
    "\n",
    "\n"
   ]
  },
  {
   "cell_type": "code",
   "execution_count": null,
   "metadata": {},
   "outputs": [],
   "source": []
  }
 ],
 "metadata": {
  "kernelspec": {
   "display_name": "Python 3",
   "language": "python",
   "name": "python3"
  },
  "language_info": {
   "codemirror_mode": {
    "name": "ipython",
    "version": 3
   },
   "file_extension": ".py",
   "mimetype": "text/x-python",
   "name": "python",
   "nbconvert_exporter": "python",
   "pygments_lexer": "ipython3",
   "version": "3.13.0"
  }
 },
 "nbformat": 4,
 "nbformat_minor": 2
}
